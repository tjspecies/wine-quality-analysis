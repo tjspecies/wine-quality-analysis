{
  "nbformat": 4,
  "nbformat_minor": 0,
  "metadata": {
    "colab": {
      "provenance": []
    },
    "kernelspec": {
      "name": "python3",
      "display_name": "Python 3"
    },
    "language_info": {
      "name": "python"
    }
  },
  "cells": [
    {
      "cell_type": "markdown",
      "source": [],
      "metadata": {
        "id": "UJgCj5GSPuO8"
      }
    },
    {
      "cell_type": "markdown",
      "source": [
        "Wine Quality Dataset is provided:\n",
        "Please complete the following tasks! Total points: 30"
      ],
      "metadata": {
        "id": "l3HoE-YmOhkS"
      }
    },
    {
      "cell_type": "markdown",
      "source": [
        "Due Date: Dec 17th, 11:59 PM CST"
      ],
      "metadata": {
        "id": "Q14m5Tc-SNRB"
      }
    },
    {
      "cell_type": "markdown",
      "source": [
        "Part 1: Setup and Data Loading - 10 points\n",
        "Import Libraries:\n",
        "\n",
        "Import Pandas and NumPy.\n",
        "\n",
        "\n",
        "Load the Dataset:\n",
        "\n",
        "Load the dataset into a Pandas DataFrame.\n",
        "\n",
        "\n",
        "Display the first 5 rows to understand its structure.\n",
        "\n",
        "Display the column names, data types, and shape of the dataset.\n",
        "Check for missing values in the dataset."
      ],
      "metadata": {
        "id": "-vEvtcPRNXY6"
      }
    },
    {
      "cell_type": "code",
      "source": [],
      "metadata": {
        "id": "y-rwCD4GNjC_"
      },
      "execution_count": null,
      "outputs": []
    },
    {
      "cell_type": "markdown",
      "source": [
        "Part 2: Data Manipulation with Pandas - 10 points\n",
        "\n",
        "\n",
        "\n",
        "Summary Statistics:\n",
        "\n",
        "Calculate the mean, median, and standard deviation of numerical columns.\n",
        "\n",
        "\n",
        "Rename Columns:\n",
        "\n",
        "Rename the columns to replace spaces with underscores (if applicable).\n",
        "\n",
        "\n",
        "Filter Data:\n",
        "\n",
        "Create a subset of the dataset with quality greater than 6.\n",
        "Save this subset to a new variable.\n",
        "\n",
        "\n",
        "Group and Aggregate:\n",
        "\n",
        "Group the data by quality and calculate the average alcohol for each group.\n",
        "Find the count of samples for each quality level.\n",
        "\n",
        "\n",
        "Add a New Column:\n",
        "\n",
        "Add a new column called sugar_to_acid_ratio, calculated as:\n",
        "sugar_to_acid_ratio\n",
        "=\n",
        "residual_sugar/\n",
        "citric_acid\n",
        "\n",
        "\n"
      ],
      "metadata": {
        "id": "RTl21GHNNjY3"
      }
    },
    {
      "cell_type": "code",
      "source": [],
      "metadata": {
        "id": "7dvPCc4zPHQl"
      },
      "execution_count": null,
      "outputs": []
    },
    {
      "cell_type": "markdown",
      "source": [
        "Part 3: Task Modifications: 10 points\n",
        "\n",
        "\n",
        "\n",
        "Lists:\n",
        "\n",
        "Extract specific columns (e.g., quality, alcohol) into separate lists.\n",
        "\n",
        "Perform sorting on these lists.\n",
        "\n",
        "\n",
        "\n",
        "Dictionaries:\n",
        "\n",
        "Create a dictionary to map quality levels to the average alcohol content.\n",
        "\n",
        "Use a dictionary to count the frequency of each quality level."
      ],
      "metadata": {
        "id": "4H_an7yvNdRu"
      }
    }
  ]
}